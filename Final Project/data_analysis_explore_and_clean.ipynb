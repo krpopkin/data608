{
 "cells": [
  {
   "cell_type": "markdown",
   "metadata": {
    "toc": true
   },
   "source": [
    "<h1>Table of Contents<span class=\"tocSkip\"></span></h1>\n",
    "<div class=\"toc\"><ul class=\"toc-item\"><li><span><a href=\"#Load-data\" data-toc-modified-id=\"Load-data-1\">Load data</a></span></li><li><span><a href=\"#Evaluate\" data-toc-modified-id=\"Evaluate-2\">Evaluate</a></span></li><li><span><a href=\"#Cleanup\" data-toc-modified-id=\"Cleanup-3\">Cleanup</a></span></li><li><span><a href=\"#Transform\" data-toc-modified-id=\"Transform-4\">Transform</a></span></li></ul></div>"
   ]
  },
  {
   "cell_type": "markdown",
   "metadata": {},
   "source": [
    "This notebook inputs the Aid Worker Security Database and completes an exploratory analysis.  Data cleanup is also completed and three csv files are created for use in aninteractive visualization."
   ]
  },
  {
   "cell_type": "code",
   "execution_count": 1,
   "metadata": {},
   "outputs": [],
   "source": [
    "import pandas as pd \n",
    "import numpy as np \n",
    "from collections import defaultdict\n",
    "\n",
    "pd.set_option('Display.max_columns',None)\n",
    "pd.set_option('Display.max_rows',None)\n",
    "\n",
    "import warnings\n",
    "warnings.filterwarnings('ignore')\n"
   ]
  },
  {
   "cell_type": "markdown",
   "metadata": {},
   "source": [
    "### Load data"
   ]
  },
  {
   "cell_type": "code",
   "execution_count": 2,
   "metadata": {},
   "outputs": [
    {
     "data": {
      "text/html": [
       "<div>\n",
       "<style scoped>\n",
       "    .dataframe tbody tr th:only-of-type {\n",
       "        vertical-align: middle;\n",
       "    }\n",
       "\n",
       "    .dataframe tbody tr th {\n",
       "        vertical-align: top;\n",
       "    }\n",
       "\n",
       "    .dataframe thead th {\n",
       "        text-align: right;\n",
       "    }\n",
       "</style>\n",
       "<table border=\"1\" class=\"dataframe\">\n",
       "  <thead>\n",
       "    <tr style=\"text-align: right;\">\n",
       "      <th></th>\n",
       "      <th>Incident ID</th>\n",
       "      <th>Year</th>\n",
       "      <th>Month</th>\n",
       "      <th>Day</th>\n",
       "      <th>Country Code</th>\n",
       "      <th>Country</th>\n",
       "      <th>Region</th>\n",
       "      <th>District</th>\n",
       "      <th>City</th>\n",
       "      <th>UN</th>\n",
       "      <th>INGO</th>\n",
       "      <th>ICRC</th>\n",
       "      <th>NRCS and IFRC</th>\n",
       "      <th>NNGO</th>\n",
       "      <th>Other</th>\n",
       "      <th>Nationals killed</th>\n",
       "      <th>Nationals wounded</th>\n",
       "      <th>Nationals kidnapped</th>\n",
       "      <th>Total nationals</th>\n",
       "      <th>Internationals killed</th>\n",
       "      <th>Internationals wounded</th>\n",
       "      <th>Internationals kidnapped</th>\n",
       "      <th>Total internationals</th>\n",
       "      <th>Total killed</th>\n",
       "      <th>Total wounded</th>\n",
       "      <th>Total kidnapped</th>\n",
       "      <th>Total affected</th>\n",
       "      <th>Gender Male</th>\n",
       "      <th>Gender Female</th>\n",
       "      <th>Gender Unknown</th>\n",
       "      <th>Means of attack</th>\n",
       "      <th>Attack context</th>\n",
       "      <th>Location</th>\n",
       "      <th>Latitude</th>\n",
       "      <th>Longitude</th>\n",
       "      <th>Actor type</th>\n",
       "      <th>Actor name</th>\n",
       "      <th>Details</th>\n",
       "      <th>Verified</th>\n",
       "      <th>Source</th>\n",
       "    </tr>\n",
       "  </thead>\n",
       "  <tbody>\n",
       "    <tr>\n",
       "      <th>0</th>\n",
       "      <td>35</td>\n",
       "      <td>1997</td>\n",
       "      <td>NaN</td>\n",
       "      <td>NaN</td>\n",
       "      <td>NaN</td>\n",
       "      <td>NaN</td>\n",
       "      <td>NaN</td>\n",
       "      <td>NaN</td>\n",
       "      <td>NaN</td>\n",
       "      <td>0</td>\n",
       "      <td>0</td>\n",
       "      <td>2.0</td>\n",
       "      <td>0.0</td>\n",
       "      <td>0.0</td>\n",
       "      <td>0</td>\n",
       "      <td>1</td>\n",
       "      <td>0</td>\n",
       "      <td>0</td>\n",
       "      <td>1</td>\n",
       "      <td>0</td>\n",
       "      <td>1</td>\n",
       "      <td>0</td>\n",
       "      <td>1</td>\n",
       "      <td>1</td>\n",
       "      <td>1</td>\n",
       "      <td>0</td>\n",
       "      <td>2</td>\n",
       "      <td>0</td>\n",
       "      <td>0</td>\n",
       "      <td>2</td>\n",
       "      <td>Unknown</td>\n",
       "      <td>Unknown</td>\n",
       "      <td>Unknown</td>\n",
       "      <td>NaN</td>\n",
       "      <td>NaN</td>\n",
       "      <td>Unknown</td>\n",
       "      <td>Unknown</td>\n",
       "      <td>1 ICRC international staff wounded and 1 natio...</td>\n",
       "      <td>Yes</td>\n",
       "      <td>Focal Point</td>\n",
       "    </tr>\n",
       "    <tr>\n",
       "      <th>1</th>\n",
       "      <td>1</td>\n",
       "      <td>1997</td>\n",
       "      <td>1.0</td>\n",
       "      <td>NaN</td>\n",
       "      <td>KH</td>\n",
       "      <td>Cambodia</td>\n",
       "      <td>Banteay Meanchey</td>\n",
       "      <td>NaN</td>\n",
       "      <td>NaN</td>\n",
       "      <td>0</td>\n",
       "      <td>0</td>\n",
       "      <td>1.0</td>\n",
       "      <td>0.0</td>\n",
       "      <td>0.0</td>\n",
       "      <td>0</td>\n",
       "      <td>1</td>\n",
       "      <td>0</td>\n",
       "      <td>0</td>\n",
       "      <td>1</td>\n",
       "      <td>0</td>\n",
       "      <td>0</td>\n",
       "      <td>0</td>\n",
       "      <td>0</td>\n",
       "      <td>1</td>\n",
       "      <td>0</td>\n",
       "      <td>0</td>\n",
       "      <td>1</td>\n",
       "      <td>0</td>\n",
       "      <td>0</td>\n",
       "      <td>1</td>\n",
       "      <td>Unknown</td>\n",
       "      <td>Unknown</td>\n",
       "      <td>Unknown</td>\n",
       "      <td>14.07092855</td>\n",
       "      <td>103.099916</td>\n",
       "      <td>Unknown</td>\n",
       "      <td>Unknown</td>\n",
       "      <td>1 ICRC national staff killed while working in ...</td>\n",
       "      <td>Archived</td>\n",
       "      <td>Archived</td>\n",
       "    </tr>\n",
       "  </tbody>\n",
       "</table>\n",
       "</div>"
      ],
      "text/plain": [
       "   Incident ID  Year  Month  Day Country Code   Country            Region  \\\n",
       "0           35  1997    NaN  NaN          NaN       NaN               NaN   \n",
       "1            1  1997    1.0  NaN           KH  Cambodia  Banteay Meanchey   \n",
       "\n",
       "  District City  UN  INGO  ICRC  NRCS and IFRC  NNGO  Other  Nationals killed  \\\n",
       "0      NaN  NaN   0     0   2.0            0.0   0.0      0                 1   \n",
       "1      NaN  NaN   0     0   1.0            0.0   0.0      0                 1   \n",
       "\n",
       "   Nationals wounded  Nationals kidnapped  Total nationals  \\\n",
       "0                  0                    0                1   \n",
       "1                  0                    0                1   \n",
       "\n",
       "   Internationals killed  Internationals wounded  Internationals kidnapped  \\\n",
       "0                      0                       1                         0   \n",
       "1                      0                       0                         0   \n",
       "\n",
       "   Total internationals  Total killed  Total wounded  Total kidnapped  \\\n",
       "0                     1             1              1                0   \n",
       "1                     0             1              0                0   \n",
       "\n",
       "   Total affected  Gender Male  Gender Female  Gender Unknown Means of attack  \\\n",
       "0               2            0              0               2         Unknown   \n",
       "1               1            0              0               1         Unknown   \n",
       "\n",
       "  Attack context Location     Latitude   Longitude Actor type Actor name  \\\n",
       "0        Unknown  Unknown          NaN         NaN    Unknown    Unknown   \n",
       "1        Unknown  Unknown  14.07092855  103.099916    Unknown    Unknown   \n",
       "\n",
       "                                             Details  Verified       Source  \n",
       "0  1 ICRC international staff wounded and 1 natio...       Yes  Focal Point  \n",
       "1  1 ICRC national staff killed while working in ...  Archived     Archived  "
      ]
     },
     "execution_count": 2,
     "metadata": {},
     "output_type": "execute_result"
    }
   ],
   "source": [
    "raw_data = pd.read_csv('./data/security_incidents_2021-09-11.csv')\n",
    "raw_data.head(2)"
   ]
  },
  {
   "cell_type": "markdown",
   "metadata": {},
   "source": [
    "### Evaluate"
   ]
  },
  {
   "cell_type": "code",
   "execution_count": 3,
   "metadata": {},
   "outputs": [
    {
     "data": {
      "text/plain": [
       "3247"
      ]
     },
     "execution_count": 3,
     "metadata": {},
     "output_type": "execute_result"
    }
   ],
   "source": [
    "raw_data.Year.value_counts().sum()"
   ]
  },
  {
   "cell_type": "code",
   "execution_count": 4,
   "metadata": {},
   "outputs": [
    {
     "data": {
      "text/html": [
       "<div>\n",
       "<style scoped>\n",
       "    .dataframe tbody tr th:only-of-type {\n",
       "        vertical-align: middle;\n",
       "    }\n",
       "\n",
       "    .dataframe tbody tr th {\n",
       "        vertical-align: top;\n",
       "    }\n",
       "\n",
       "    .dataframe thead th {\n",
       "        text-align: right;\n",
       "    }\n",
       "</style>\n",
       "<table border=\"1\" class=\"dataframe\">\n",
       "  <thead>\n",
       "    <tr style=\"text-align: right;\">\n",
       "      <th></th>\n",
       "      <th>feature</th>\n",
       "      <th>values_count</th>\n",
       "      <th>missing_values_count</th>\n",
       "    </tr>\n",
       "  </thead>\n",
       "  <tbody>\n",
       "    <tr>\n",
       "      <th>8</th>\n",
       "      <td>City</td>\n",
       "      <td>2385</td>\n",
       "      <td>862</td>\n",
       "    </tr>\n",
       "    <tr>\n",
       "      <th>7</th>\n",
       "      <td>District</td>\n",
       "      <td>2574</td>\n",
       "      <td>673</td>\n",
       "    </tr>\n",
       "  </tbody>\n",
       "</table>\n",
       "</div>"
      ],
      "text/plain": [
       "    feature  values_count  missing_values_count\n",
       "8      City          2385                   862\n",
       "7  District          2574                   673"
      ]
     },
     "execution_count": 4,
     "metadata": {},
     "output_type": "execute_result"
    }
   ],
   "source": [
    "#Analyze missing values across the features\n",
    "data_columns = []\n",
    "counts = []\n",
    "missing_values_count = []\n",
    "\n",
    "for c in raw_data.columns:\n",
    "    data_columns.append(c)\n",
    "    counts.append(raw_data[c].value_counts().sum())\n",
    "    missing_values_count.append(3247 - raw_data[c].value_counts().sum())\n",
    "    \n",
    "data_values_count_df = pd.DataFrame()\n",
    "data_values_count_df['feature'] = data_columns\n",
    "data_values_count_df['values_count'] = counts\n",
    "data_values_count_df['missing_values_count'] = missing_values_count\n",
    "\n",
    "data_values_count_df = data_values_count_df.sort_values('missing_values_count', ascending=False)\n",
    "data_values_count_df.head(2)"
   ]
  },
  {
   "cell_type": "code",
   "execution_count": 5,
   "metadata": {},
   "outputs": [],
   "source": [
    "data_values_count_df.to_csv('./data/data_values_count.csv', index=False)"
   ]
  },
  {
   "cell_type": "markdown",
   "metadata": {},
   "source": [
    "### Cleanup"
   ]
  },
  {
   "cell_type": "code",
   "execution_count": 6,
   "metadata": {},
   "outputs": [],
   "source": [
    "#Copy raw data and filter to only include columns needed for the visualization\n",
    "data = pd.DataFrame()\n",
    "data = raw_data.copy()\n",
    "\n",
    "data_columns = [str(x).lower().replace(' ','_') for x in data.columns]\n",
    "data.columns = data_columns\n",
    "\n",
    "columns_needed = ['incident_id','year','country','total_killed', 'total_wounded','total_kidnapped','total_affected',\n",
    "                 'means_of_attack','latitude','longitude']\n",
    "\n",
    "data = data[columns_needed]"
   ]
  },
  {
   "cell_type": "code",
   "execution_count": 7,
   "metadata": {},
   "outputs": [
    {
     "data": {
      "text/html": [
       "<div>\n",
       "<style scoped>\n",
       "    .dataframe tbody tr th:only-of-type {\n",
       "        vertical-align: middle;\n",
       "    }\n",
       "\n",
       "    .dataframe tbody tr th {\n",
       "        vertical-align: top;\n",
       "    }\n",
       "\n",
       "    .dataframe thead th {\n",
       "        text-align: right;\n",
       "    }\n",
       "</style>\n",
       "<table border=\"1\" class=\"dataframe\">\n",
       "  <thead>\n",
       "    <tr style=\"text-align: right;\">\n",
       "      <th></th>\n",
       "      <th>incident_id</th>\n",
       "      <th>year</th>\n",
       "      <th>country</th>\n",
       "      <th>total_killed</th>\n",
       "      <th>total_wounded</th>\n",
       "      <th>total_kidnapped</th>\n",
       "      <th>total_affected</th>\n",
       "      <th>means_of_attack</th>\n",
       "      <th>latitude</th>\n",
       "      <th>longitude</th>\n",
       "    </tr>\n",
       "  </thead>\n",
       "  <tbody>\n",
       "    <tr>\n",
       "      <th>0</th>\n",
       "      <td>35</td>\n",
       "      <td>1997</td>\n",
       "      <td>NaN</td>\n",
       "      <td>1</td>\n",
       "      <td>1</td>\n",
       "      <td>0</td>\n",
       "      <td>2</td>\n",
       "      <td>Unknown</td>\n",
       "      <td>NaN</td>\n",
       "      <td>NaN</td>\n",
       "    </tr>\n",
       "    <tr>\n",
       "      <th>1</th>\n",
       "      <td>1</td>\n",
       "      <td>1997</td>\n",
       "      <td>Cambodia</td>\n",
       "      <td>1</td>\n",
       "      <td>0</td>\n",
       "      <td>0</td>\n",
       "      <td>1</td>\n",
       "      <td>Unknown</td>\n",
       "      <td>14.07092855</td>\n",
       "      <td>103.099916</td>\n",
       "    </tr>\n",
       "  </tbody>\n",
       "</table>\n",
       "</div>"
      ],
      "text/plain": [
       "   incident_id  year   country  total_killed  total_wounded  total_kidnapped  \\\n",
       "0           35  1997       NaN             1              1                0   \n",
       "1            1  1997  Cambodia             1              0                0   \n",
       "\n",
       "   total_affected means_of_attack     latitude   longitude  \n",
       "0               2         Unknown          NaN         NaN  \n",
       "1               1         Unknown  14.07092855  103.099916  "
      ]
     },
     "execution_count": 7,
     "metadata": {},
     "output_type": "execute_result"
    }
   ],
   "source": [
    "data.head(2)"
   ]
  },
  {
   "cell_type": "markdown",
   "metadata": {},
   "source": [
    "Based on the summary below there are only 6 out 3247 records missing the country.  These values will be dropped."
   ]
  },
  {
   "cell_type": "code",
   "execution_count": 8,
   "metadata": {},
   "outputs": [
    {
     "name": "stdout",
     "output_type": "stream",
     "text": [
      "<class 'pandas.core.frame.DataFrame'>\n",
      "RangeIndex: 3247 entries, 0 to 3246\n",
      "Data columns (total 10 columns):\n",
      " #   Column           Non-Null Count  Dtype  \n",
      "---  ------           --------------  -----  \n",
      " 0   incident_id      3247 non-null   int64  \n",
      " 1   year             3247 non-null   int64  \n",
      " 2   country          3241 non-null   object \n",
      " 3   total_killed     3247 non-null   int64  \n",
      " 4   total_wounded    3247 non-null   int64  \n",
      " 5   total_kidnapped  3247 non-null   int64  \n",
      " 6   total_affected   3247 non-null   int64  \n",
      " 7   means_of_attack  3247 non-null   object \n",
      " 8   latitude         3241 non-null   object \n",
      " 9   longitude        3241 non-null   float64\n",
      "dtypes: float64(1), int64(6), object(3)\n",
      "memory usage: 253.8+ KB\n"
     ]
    }
   ],
   "source": [
    "data.info()"
   ]
  },
  {
   "cell_type": "code",
   "execution_count": 9,
   "metadata": {},
   "outputs": [],
   "source": [
    "#Remove attacks missing a country\n",
    "data = data.dropna(how='any',axis=0)\n",
    "data = data[data['year'] < 2021]\n",
    "\n",
    "#one row has a bad value of a comma with the latitude, so the comma is removed\n",
    "data['latitude'] = [pd.to_numeric(str(x).replace(',','')) for x in data.latitude.values]"
   ]
  },
  {
   "cell_type": "markdown",
   "metadata": {},
   "source": [
    "### Transform"
   ]
  },
  {
   "cell_type": "code",
   "execution_count": 10,
   "metadata": {},
   "outputs": [],
   "source": [
    "#Create means_of_attack_condensed feature.  There are 10 methods of attack, that I'm condensing into broader categories\n",
    "#of kidnapping, shooting, explosives, bodily assualt, and Unknown.  This will make the dashboard easier to understand.\n",
    "\n",
    "def am_condensed(row):\n",
    "    am = row['means_of_attack'] \n",
    "    \n",
    "    if 'Kidnap' in am:\n",
    "        out_str = 'Kidnapping'\n",
    "        \n",
    "    elif am == 'Shooting':\n",
    "        out_str = 'Shooting'\n",
    "    \n",
    "    elif am == 'Bodily assault':\n",
    "        out_str = 'Bodily assault'\n",
    "        \n",
    "    elif am == 'Unknown':\n",
    "        out_str = 'Unknown'\n",
    "    \n",
    "    else:\n",
    "        out_str = 'Explosives'\n",
    "    \n",
    "    return out_str\n",
    "\n",
    "data['means_of_attack_condensed'] = data.apply(am_condensed, axis=1)"
   ]
  },
  {
   "cell_type": "code",
   "execution_count": 11,
   "metadata": {},
   "outputs": [],
   "source": [
    "#Add a risk score for each country for each year: formula I derived for risk is a multiplier of \n",
    "#kidnapped = 1, wounded = 2, killed = 3\n",
    "data['risk'] = data.total_kidnapped + (data.total_wounded * 2) + (data.total_killed * 3)"
   ]
  },
  {
   "cell_type": "code",
   "execution_count": 12,
   "metadata": {},
   "outputs": [
    {
     "data": {
      "text/html": [
       "<div>\n",
       "<style scoped>\n",
       "    .dataframe tbody tr th:only-of-type {\n",
       "        vertical-align: middle;\n",
       "    }\n",
       "\n",
       "    .dataframe tbody tr th {\n",
       "        vertical-align: top;\n",
       "    }\n",
       "\n",
       "    .dataframe thead th {\n",
       "        text-align: right;\n",
       "    }\n",
       "</style>\n",
       "<table border=\"1\" class=\"dataframe\">\n",
       "  <thead>\n",
       "    <tr style=\"text-align: right;\">\n",
       "      <th></th>\n",
       "      <th>country</th>\n",
       "      <th>total_killed</th>\n",
       "      <th>total_wounded</th>\n",
       "      <th>total_kidnapped</th>\n",
       "      <th>total_affected</th>\n",
       "      <th>risk</th>\n",
       "    </tr>\n",
       "  </thead>\n",
       "  <tbody>\n",
       "    <tr>\n",
       "      <th>0</th>\n",
       "      <td>Afghanistan</td>\n",
       "      <td>454</td>\n",
       "      <td>354</td>\n",
       "      <td>464</td>\n",
       "      <td>1272</td>\n",
       "      <td>2534</td>\n",
       "    </tr>\n",
       "    <tr>\n",
       "      <th>1</th>\n",
       "      <td>Algeria</td>\n",
       "      <td>8</td>\n",
       "      <td>4</td>\n",
       "      <td>0</td>\n",
       "      <td>12</td>\n",
       "      <td>32</td>\n",
       "    </tr>\n",
       "  </tbody>\n",
       "</table>\n",
       "</div>"
      ],
      "text/plain": [
       "       country  total_killed  total_wounded  total_kidnapped  total_affected  \\\n",
       "0  Afghanistan           454            354              464            1272   \n",
       "1      Algeria             8              4                0              12   \n",
       "\n",
       "   risk  \n",
       "0  2534  \n",
       "1    32  "
      ]
     },
     "execution_count": 12,
     "metadata": {},
     "output_type": "execute_result"
    }
   ],
   "source": [
    "#Create a risk score for each country for all years combined and store in a dataframe\n",
    "country_risk_score_no_year = data.copy()\n",
    "\n",
    "country_risk_score_no_year = country_risk_score_no_year[['country', 'total_killed', 'total_wounded', 'total_kidnapped', \n",
    "                                        'total_affected','risk']]\n",
    "\n",
    "country_risk_score_no_year = country_risk_score_no_year.groupby(['country']).sum()\n",
    "country_risk_score_no_year = country_risk_score_no_year.reset_index()\n",
    "\n",
    "country_risk_score_no_year.head(2)"
   ]
  },
  {
   "cell_type": "code",
   "execution_count": 13,
   "metadata": {},
   "outputs": [],
   "source": [
    "#Create a dictionary of each country's overall risk score\n",
    "country = country_risk_score_no_year.country\n",
    "risk = country_risk_score_no_year.risk\n",
    "\n",
    "ors_dict = dict(zip(country,risk))"
   ]
  },
  {
   "cell_type": "code",
   "execution_count": 14,
   "metadata": {},
   "outputs": [],
   "source": [
    "#Add each country's risk score for all_years as a feature\n",
    "data['risk_allyears'] = [ors_dict[x[2]] for x in data.values]"
   ]
  },
  {
   "cell_type": "code",
   "execution_count": 15,
   "metadata": {},
   "outputs": [],
   "source": [
    "#Output clean file to csv\n",
    "data.to_csv('./data/security_incidents_clean_data.csv', index=False)"
   ]
  }
 ],
 "metadata": {
  "kernelspec": {
   "display_name": "Python 3",
   "language": "python",
   "name": "python3"
  },
  "language_info": {
   "codemirror_mode": {
    "name": "ipython",
    "version": 3
   },
   "file_extension": ".py",
   "mimetype": "text/x-python",
   "name": "python",
   "nbconvert_exporter": "python",
   "pygments_lexer": "ipython3",
   "version": "3.8.3"
  },
  "toc": {
   "base_numbering": 1,
   "nav_menu": {},
   "number_sections": false,
   "sideBar": false,
   "skip_h1_title": false,
   "title_cell": "Table of Contents",
   "title_sidebar": "Contents",
   "toc_cell": true,
   "toc_position": {},
   "toc_section_display": true,
   "toc_window_display": false
  }
 },
 "nbformat": 4,
 "nbformat_minor": 4
}
