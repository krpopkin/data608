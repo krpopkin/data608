{
 "cells": [
  {
   "cell_type": "markdown",
   "metadata": {
    "toc": true
   },
   "source": [
    "<h1>Table of Contents<span class=\"tocSkip\"></span></h1>\n",
    "<div class=\"toc\"><ul class=\"toc-item\"></ul></div>"
   ]
  },
  {
   "cell_type": "code",
   "execution_count": 1,
   "metadata": {},
   "outputs": [
    {
     "data": {
      "text/html": [
       "\n",
       "        <iframe\n",
       "            width=\"100%\"\n",
       "            height=\"650\"\n",
       "            src=\"http://127.0.0.1:8050/\"\n",
       "            frameborder=\"0\"\n",
       "            allowfullscreen\n",
       "        ></iframe>\n",
       "        "
      ],
      "text/plain": [
       "<IPython.lib.display.IFrame at 0x1445f8d2190>"
      ]
     },
     "metadata": {},
     "output_type": "display_data"
    }
   ],
   "source": [
    "import pandas as pd\n",
    "import numpy as np\n",
    "\n",
    "import dash\n",
    "from dash import html\n",
    "from dash import dcc\n",
    "from dash.dependencies import Input, Output\n",
    "\n",
    "from plotly.subplots import make_subplots\n",
    "import plotly.graph_objects as go\n",
    "import plotly.express as px\n",
    "\n",
    "from jupyter_dash import JupyterDash\n",
    "\n",
    "# Load data\n",
    "data = pd.read_csv(\"module4_data.csv\")\n",
    "data = data.dropna(how='any', axis=0)\n",
    "\n",
    "# Create tree type dropdown data\n",
    "tree_types = sorted(list(set(data.spc_common.values)))\n",
    "\n",
    "# Create health data\n",
    "health = data[['boroname', 'spc_common', 'health', 'steward']]\n",
    "health = health.groupby(['boroname', 'spc_common', 'health']).count()\n",
    "health = health.reset_index()\n",
    "health.columns = ['boroname', 'tree', 'health', 'count']\n",
    "\n",
    "# Create stewardship data\n",
    "stewardship = data[['boroname', 'spc_common', 'health', 'steward']]\n",
    "stewardship = stewardship.groupby(\n",
    "    ['boroname', 'spc_common', 'steward']).count()\n",
    "stewardship = stewardship.reset_index()\n",
    "stewardship.columns = ['boroname', 'tree', 'steward', 'count']\n",
    "\n",
    "# Run dash app\n",
    "#app = dash.Dash(__name__)\n",
    "app = JupyterDash(__name__)\n",
    "\n",
    "fig_dropdown = html.Div([\n",
    "    dcc.Dropdown(\n",
    "        id='tree_types_dropdown',\n",
    "        options=[{'label': x, 'value': x} for x in tree_types],\n",
    "        value=None\n",
    "    )])\n",
    "\n",
    "fig_plot = html.Div(id='fig_plot')\n",
    "app.layout = html.Div([fig_dropdown, fig_plot])\n",
    "\n",
    "\n",
    "@app.callback(\n",
    "    dash.dependencies.Output('fig_plot', 'children'),\n",
    "    [dash.dependencies.Input('tree_types_dropdown', 'value')])\n",
    "def update_output(tree_name):\n",
    "    return name_to_figure(tree_name)\n",
    "\n",
    "\n",
    "def name_to_figure(tree_name):\n",
    "    selected_health_tree = health[health.tree == tree_name]\n",
    "    selected_steward_tree = stewardship[stewardship.tree == tree_name]\n",
    "\n",
    "    figure = make_subplots(\n",
    "        rows=1, cols=2, subplot_titles=('Health', 'Stewardship'))\n",
    "\n",
    "    bar1 = px.bar(selected_health_tree, x=\"boroname\",\n",
    "                  y=\"count\", color=\"health\")\n",
    "\n",
    "#     bar2 = px.bar(selected_steward_tree, x=\"boroname\",\n",
    "#                   y=\"count\", color=\"steward\")\n",
    "\n",
    "    bar2 = px.line(selected_steward_tree, x='boroname',\n",
    "                  y='count', color='steward')\n",
    "\n",
    "#     figure.add_trace(go.Bar(\n",
    "#         x=selected_health_tree['boroname'], y=selected_health_tree['count']), row=1, col=1)\n",
    "\n",
    "    for trace in bar1.data:\n",
    "        figure.add_trace(trace, 1, 1)\n",
    "\n",
    "    # figure.add_trace(go.Bar(\n",
    "    #    x=selected_steward_tree['boroname'], y=selected_steward_tree['count']), row=1, col=2)\n",
    "    for trace in bar2.data:\n",
    "        figure.add_trace(trace, 1, 2)\n",
    "\n",
    "    figure.update_layout(barmode=\"stack\")\n",
    "    return dcc.Graph(figure=figure)\n",
    "\n",
    "# app.run_server(debug=False)\n",
    "app.run_server(mode='inline')"
   ]
  },
  {
   "cell_type": "code",
   "execution_count": null,
   "metadata": {},
   "outputs": [],
   "source": []
  },
  {
   "cell_type": "code",
   "execution_count": null,
   "metadata": {},
   "outputs": [],
   "source": []
  }
 ],
 "metadata": {
  "kernelspec": {
   "display_name": "Python 3",
   "language": "python",
   "name": "python3"
  },
  "language_info": {
   "codemirror_mode": {
    "name": "ipython",
    "version": 3
   },
   "file_extension": ".py",
   "mimetype": "text/x-python",
   "name": "python",
   "nbconvert_exporter": "python",
   "pygments_lexer": "ipython3",
   "version": "3.8.3"
  },
  "toc": {
   "base_numbering": 1,
   "nav_menu": {},
   "number_sections": false,
   "sideBar": false,
   "skip_h1_title": false,
   "title_cell": "Table of Contents",
   "title_sidebar": "Contents",
   "toc_cell": true,
   "toc_position": {},
   "toc_section_display": true,
   "toc_window_display": false
  }
 },
 "nbformat": 4,
 "nbformat_minor": 4
}
